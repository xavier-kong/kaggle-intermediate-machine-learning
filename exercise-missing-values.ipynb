{
 "cells": [
  {
   "cell_type": "markdown",
   "id": "6fc7f3b6",
   "metadata": {
    "papermill": {
     "duration": 0.012427,
     "end_time": "2024-06-02T05:36:01.580233",
     "exception": false,
     "start_time": "2024-06-02T05:36:01.567806",
     "status": "completed"
    },
    "tags": []
   },
   "source": [
    "**This notebook is an exercise in the [Intermediate Machine Learning](https://www.kaggle.com/learn/intermediate-machine-learning) course.  You can reference the tutorial at [this link](https://www.kaggle.com/alexisbcook/missing-values).**\n",
    "\n",
    "---\n"
   ]
  },
  {
   "cell_type": "markdown",
   "id": "b5bcc5f1",
   "metadata": {
    "papermill": {
     "duration": 0.011915,
     "end_time": "2024-06-02T05:36:01.603925",
     "exception": false,
     "start_time": "2024-06-02T05:36:01.592010",
     "status": "completed"
    },
    "tags": []
   },
   "source": [
    "Now it's your turn to test your new knowledge of **missing values** handling. You'll probably find it makes a big difference.\n",
    "\n",
    "# Setup\n",
    "\n",
    "The questions will give you feedback on your work. Run the following cell to set up the feedback system."
   ]
  },
  {
   "cell_type": "code",
   "execution_count": 1,
   "id": "d1789836",
   "metadata": {
    "execution": {
     "iopub.execute_input": "2024-06-02T05:36:01.630251Z",
     "iopub.status.busy": "2024-06-02T05:36:01.629168Z",
     "iopub.status.idle": "2024-06-02T05:36:02.588279Z",
     "shell.execute_reply": "2024-06-02T05:36:02.587224Z"
    },
    "papermill": {
     "duration": 0.975259,
     "end_time": "2024-06-02T05:36:02.591087",
     "exception": false,
     "start_time": "2024-06-02T05:36:01.615828",
     "status": "completed"
    },
    "tags": []
   },
   "outputs": [
    {
     "name": "stdout",
     "output_type": "stream",
     "text": [
      "Setup Complete\n"
     ]
    }
   ],
   "source": [
    "# Set up code checking\n",
    "import os\n",
    "if not os.path.exists(\"../input/train.csv\"):\n",
    "    os.symlink(\"../input/home-data-for-ml-course/train.csv\", \"../input/train.csv\")  \n",
    "    os.symlink(\"../input/home-data-for-ml-course/test.csv\", \"../input/test.csv\") \n",
    "from learntools.core import binder\n",
    "binder.bind(globals())\n",
    "from learntools.ml_intermediate.ex2 import *\n",
    "print(\"Setup Complete\")"
   ]
  },
  {
   "cell_type": "markdown",
   "id": "538aec5f",
   "metadata": {
    "papermill": {
     "duration": 0.01188,
     "end_time": "2024-06-02T05:36:02.614872",
     "exception": false,
     "start_time": "2024-06-02T05:36:02.602992",
     "status": "completed"
    },
    "tags": []
   },
   "source": [
    "In this exercise, you will work with data from the [Housing Prices Competition for Kaggle Learn Users](https://www.kaggle.com/c/home-data-for-ml-course). \n",
    "\n",
    "![Ames Housing dataset image](https://storage.googleapis.com/kaggle-media/learn/images/lTJVG4e.png)\n",
    "\n",
    "Run the next code cell without changes to load the training and validation sets in `X_train`, `X_valid`, `y_train`, and `y_valid`.  The test set is loaded in `X_test`."
   ]
  },
  {
   "cell_type": "code",
   "execution_count": 2,
   "id": "7fc1b50e",
   "metadata": {
    "execution": {
     "iopub.execute_input": "2024-06-02T05:36:02.640897Z",
     "iopub.status.busy": "2024-06-02T05:36:02.639755Z",
     "iopub.status.idle": "2024-06-02T05:36:04.075836Z",
     "shell.execute_reply": "2024-06-02T05:36:04.074807Z"
    },
    "papermill": {
     "duration": 1.451693,
     "end_time": "2024-06-02T05:36:04.078689",
     "exception": false,
     "start_time": "2024-06-02T05:36:02.626996",
     "status": "completed"
    },
    "tags": []
   },
   "outputs": [],
   "source": [
    "import pandas as pd\n",
    "from sklearn.model_selection import train_test_split\n",
    "\n",
    "# Read the data\n",
    "X_full = pd.read_csv('../input/train.csv', index_col='Id')\n",
    "X_test_full = pd.read_csv('../input/test.csv', index_col='Id')\n",
    "\n",
    "# Remove rows with missing target, separate target from predictors\n",
    "X_full.dropna(axis=0, subset=['SalePrice'], inplace=True)\n",
    "y = X_full.SalePrice\n",
    "X_full.drop(['SalePrice'], axis=1, inplace=True)\n",
    "\n",
    "# To keep things simple, we'll use only numerical predictors\n",
    "X = X_full.select_dtypes(exclude=['object'])\n",
    "X_test = X_test_full.select_dtypes(exclude=['object'])\n",
    "\n",
    "# Break off validation set from training data\n",
    "X_train, X_valid, y_train, y_valid = train_test_split(X, y, train_size=0.8, test_size=0.2,\n",
    "                                                      random_state=0)"
   ]
  },
  {
   "cell_type": "markdown",
   "id": "f7648094",
   "metadata": {
    "papermill": {
     "duration": 0.011222,
     "end_time": "2024-06-02T05:36:04.101773",
     "exception": false,
     "start_time": "2024-06-02T05:36:04.090551",
     "status": "completed"
    },
    "tags": []
   },
   "source": [
    "Use the next code cell to print the first five rows of the data."
   ]
  },
  {
   "cell_type": "code",
   "execution_count": 3,
   "id": "19b79f6d",
   "metadata": {
    "execution": {
     "iopub.execute_input": "2024-06-02T05:36:04.126654Z",
     "iopub.status.busy": "2024-06-02T05:36:04.126238Z",
     "iopub.status.idle": "2024-06-02T05:36:04.156859Z",
     "shell.execute_reply": "2024-06-02T05:36:04.155682Z"
    },
    "papermill": {
     "duration": 0.045723,
     "end_time": "2024-06-02T05:36:04.159228",
     "exception": false,
     "start_time": "2024-06-02T05:36:04.113505",
     "status": "completed"
    },
    "tags": []
   },
   "outputs": [
    {
     "data": {
      "text/html": [
       "<div>\n",
       "<style scoped>\n",
       "    .dataframe tbody tr th:only-of-type {\n",
       "        vertical-align: middle;\n",
       "    }\n",
       "\n",
       "    .dataframe tbody tr th {\n",
       "        vertical-align: top;\n",
       "    }\n",
       "\n",
       "    .dataframe thead th {\n",
       "        text-align: right;\n",
       "    }\n",
       "</style>\n",
       "<table border=\"1\" class=\"dataframe\">\n",
       "  <thead>\n",
       "    <tr style=\"text-align: right;\">\n",
       "      <th></th>\n",
       "      <th>MSSubClass</th>\n",
       "      <th>LotFrontage</th>\n",
       "      <th>LotArea</th>\n",
       "      <th>OverallQual</th>\n",
       "      <th>OverallCond</th>\n",
       "      <th>YearBuilt</th>\n",
       "      <th>YearRemodAdd</th>\n",
       "      <th>MasVnrArea</th>\n",
       "      <th>BsmtFinSF1</th>\n",
       "      <th>BsmtFinSF2</th>\n",
       "      <th>...</th>\n",
       "      <th>GarageArea</th>\n",
       "      <th>WoodDeckSF</th>\n",
       "      <th>OpenPorchSF</th>\n",
       "      <th>EnclosedPorch</th>\n",
       "      <th>3SsnPorch</th>\n",
       "      <th>ScreenPorch</th>\n",
       "      <th>PoolArea</th>\n",
       "      <th>MiscVal</th>\n",
       "      <th>MoSold</th>\n",
       "      <th>YrSold</th>\n",
       "    </tr>\n",
       "    <tr>\n",
       "      <th>Id</th>\n",
       "      <th></th>\n",
       "      <th></th>\n",
       "      <th></th>\n",
       "      <th></th>\n",
       "      <th></th>\n",
       "      <th></th>\n",
       "      <th></th>\n",
       "      <th></th>\n",
       "      <th></th>\n",
       "      <th></th>\n",
       "      <th></th>\n",
       "      <th></th>\n",
       "      <th></th>\n",
       "      <th></th>\n",
       "      <th></th>\n",
       "      <th></th>\n",
       "      <th></th>\n",
       "      <th></th>\n",
       "      <th></th>\n",
       "      <th></th>\n",
       "      <th></th>\n",
       "    </tr>\n",
       "  </thead>\n",
       "  <tbody>\n",
       "    <tr>\n",
       "      <th>619</th>\n",
       "      <td>20</td>\n",
       "      <td>90.0</td>\n",
       "      <td>11694</td>\n",
       "      <td>9</td>\n",
       "      <td>5</td>\n",
       "      <td>2007</td>\n",
       "      <td>2007</td>\n",
       "      <td>452.0</td>\n",
       "      <td>48</td>\n",
       "      <td>0</td>\n",
       "      <td>...</td>\n",
       "      <td>774</td>\n",
       "      <td>0</td>\n",
       "      <td>108</td>\n",
       "      <td>0</td>\n",
       "      <td>0</td>\n",
       "      <td>260</td>\n",
       "      <td>0</td>\n",
       "      <td>0</td>\n",
       "      <td>7</td>\n",
       "      <td>2007</td>\n",
       "    </tr>\n",
       "    <tr>\n",
       "      <th>871</th>\n",
       "      <td>20</td>\n",
       "      <td>60.0</td>\n",
       "      <td>6600</td>\n",
       "      <td>5</td>\n",
       "      <td>5</td>\n",
       "      <td>1962</td>\n",
       "      <td>1962</td>\n",
       "      <td>0.0</td>\n",
       "      <td>0</td>\n",
       "      <td>0</td>\n",
       "      <td>...</td>\n",
       "      <td>308</td>\n",
       "      <td>0</td>\n",
       "      <td>0</td>\n",
       "      <td>0</td>\n",
       "      <td>0</td>\n",
       "      <td>0</td>\n",
       "      <td>0</td>\n",
       "      <td>0</td>\n",
       "      <td>8</td>\n",
       "      <td>2009</td>\n",
       "    </tr>\n",
       "    <tr>\n",
       "      <th>93</th>\n",
       "      <td>30</td>\n",
       "      <td>80.0</td>\n",
       "      <td>13360</td>\n",
       "      <td>5</td>\n",
       "      <td>7</td>\n",
       "      <td>1921</td>\n",
       "      <td>2006</td>\n",
       "      <td>0.0</td>\n",
       "      <td>713</td>\n",
       "      <td>0</td>\n",
       "      <td>...</td>\n",
       "      <td>432</td>\n",
       "      <td>0</td>\n",
       "      <td>0</td>\n",
       "      <td>44</td>\n",
       "      <td>0</td>\n",
       "      <td>0</td>\n",
       "      <td>0</td>\n",
       "      <td>0</td>\n",
       "      <td>8</td>\n",
       "      <td>2009</td>\n",
       "    </tr>\n",
       "    <tr>\n",
       "      <th>818</th>\n",
       "      <td>20</td>\n",
       "      <td>NaN</td>\n",
       "      <td>13265</td>\n",
       "      <td>8</td>\n",
       "      <td>5</td>\n",
       "      <td>2002</td>\n",
       "      <td>2002</td>\n",
       "      <td>148.0</td>\n",
       "      <td>1218</td>\n",
       "      <td>0</td>\n",
       "      <td>...</td>\n",
       "      <td>857</td>\n",
       "      <td>150</td>\n",
       "      <td>59</td>\n",
       "      <td>0</td>\n",
       "      <td>0</td>\n",
       "      <td>0</td>\n",
       "      <td>0</td>\n",
       "      <td>0</td>\n",
       "      <td>7</td>\n",
       "      <td>2008</td>\n",
       "    </tr>\n",
       "    <tr>\n",
       "      <th>303</th>\n",
       "      <td>20</td>\n",
       "      <td>118.0</td>\n",
       "      <td>13704</td>\n",
       "      <td>7</td>\n",
       "      <td>5</td>\n",
       "      <td>2001</td>\n",
       "      <td>2002</td>\n",
       "      <td>150.0</td>\n",
       "      <td>0</td>\n",
       "      <td>0</td>\n",
       "      <td>...</td>\n",
       "      <td>843</td>\n",
       "      <td>468</td>\n",
       "      <td>81</td>\n",
       "      <td>0</td>\n",
       "      <td>0</td>\n",
       "      <td>0</td>\n",
       "      <td>0</td>\n",
       "      <td>0</td>\n",
       "      <td>1</td>\n",
       "      <td>2006</td>\n",
       "    </tr>\n",
       "  </tbody>\n",
       "</table>\n",
       "<p>5 rows × 36 columns</p>\n",
       "</div>"
      ],
      "text/plain": [
       "     MSSubClass  LotFrontage  LotArea  OverallQual  OverallCond  YearBuilt  \\\n",
       "Id                                                                           \n",
       "619          20         90.0    11694            9            5       2007   \n",
       "871          20         60.0     6600            5            5       1962   \n",
       "93           30         80.0    13360            5            7       1921   \n",
       "818          20          NaN    13265            8            5       2002   \n",
       "303          20        118.0    13704            7            5       2001   \n",
       "\n",
       "     YearRemodAdd  MasVnrArea  BsmtFinSF1  BsmtFinSF2  ...  GarageArea  \\\n",
       "Id                                                     ...               \n",
       "619          2007       452.0          48           0  ...         774   \n",
       "871          1962         0.0           0           0  ...         308   \n",
       "93           2006         0.0         713           0  ...         432   \n",
       "818          2002       148.0        1218           0  ...         857   \n",
       "303          2002       150.0           0           0  ...         843   \n",
       "\n",
       "     WoodDeckSF  OpenPorchSF  EnclosedPorch  3SsnPorch  ScreenPorch  PoolArea  \\\n",
       "Id                                                                              \n",
       "619           0          108              0          0          260         0   \n",
       "871           0            0              0          0            0         0   \n",
       "93            0            0             44          0            0         0   \n",
       "818         150           59              0          0            0         0   \n",
       "303         468           81              0          0            0         0   \n",
       "\n",
       "     MiscVal  MoSold  YrSold  \n",
       "Id                            \n",
       "619        0       7    2007  \n",
       "871        0       8    2009  \n",
       "93         0       8    2009  \n",
       "818        0       7    2008  \n",
       "303        0       1    2006  \n",
       "\n",
       "[5 rows x 36 columns]"
      ]
     },
     "execution_count": 3,
     "metadata": {},
     "output_type": "execute_result"
    }
   ],
   "source": [
    "X_train.head()"
   ]
  },
  {
   "cell_type": "markdown",
   "id": "b4aa58f3",
   "metadata": {
    "papermill": {
     "duration": 0.011598,
     "end_time": "2024-06-02T05:36:04.183910",
     "exception": false,
     "start_time": "2024-06-02T05:36:04.172312",
     "status": "completed"
    },
    "tags": []
   },
   "source": [
    "You can already see a few missing values in the first several rows.  In the next step, you'll obtain a more comprehensive understanding of the missing values in the dataset.\n",
    "\n",
    "# Step 1: Preliminary investigation\n",
    "\n",
    "Run the code cell below without changes."
   ]
  },
  {
   "cell_type": "code",
   "execution_count": 4,
   "id": "ffb25a07",
   "metadata": {
    "execution": {
     "iopub.execute_input": "2024-06-02T05:36:04.209814Z",
     "iopub.status.busy": "2024-06-02T05:36:04.209353Z",
     "iopub.status.idle": "2024-06-02T05:36:04.218321Z",
     "shell.execute_reply": "2024-06-02T05:36:04.216979Z"
    },
    "papermill": {
     "duration": 0.024905,
     "end_time": "2024-06-02T05:36:04.220856",
     "exception": false,
     "start_time": "2024-06-02T05:36:04.195951",
     "status": "completed"
    },
    "tags": []
   },
   "outputs": [
    {
     "name": "stdout",
     "output_type": "stream",
     "text": [
      "(1168, 36)\n",
      "LotFrontage    212\n",
      "MasVnrArea       6\n",
      "GarageYrBlt     58\n",
      "dtype: int64\n"
     ]
    }
   ],
   "source": [
    "# Shape of training data (num_rows, num_columns)\n",
    "print(X_train.shape)\n",
    "\n",
    "# Number of missing values in each column of training data\n",
    "missing_val_count_by_column = (X_train.isnull().sum())\n",
    "print(missing_val_count_by_column[missing_val_count_by_column > 0])"
   ]
  },
  {
   "cell_type": "markdown",
   "id": "8db9b8e8",
   "metadata": {
    "papermill": {
     "duration": 0.011865,
     "end_time": "2024-06-02T05:36:04.245455",
     "exception": false,
     "start_time": "2024-06-02T05:36:04.233590",
     "status": "completed"
    },
    "tags": []
   },
   "source": [
    "### Part A\n",
    "\n",
    "Use the above output to answer the questions below."
   ]
  },
  {
   "cell_type": "code",
   "execution_count": 5,
   "id": "0509544d",
   "metadata": {
    "execution": {
     "iopub.execute_input": "2024-06-02T05:36:04.271334Z",
     "iopub.status.busy": "2024-06-02T05:36:04.270927Z",
     "iopub.status.idle": "2024-06-02T05:36:04.280911Z",
     "shell.execute_reply": "2024-06-02T05:36:04.279861Z"
    },
    "papermill": {
     "duration": 0.026057,
     "end_time": "2024-06-02T05:36:04.283709",
     "exception": false,
     "start_time": "2024-06-02T05:36:04.257652",
     "status": "completed"
    },
    "tags": []
   },
   "outputs": [
    {
     "data": {
      "application/javascript": [
       "parent.postMessage({\"jupyterEvent\": \"custom.exercise_interaction\", \"data\": {\"outcomeType\": 1, \"valueTowardsCompletion\": 1.0, \"interactionType\": 1, \"questionType\": 1, \"questionId\": \"1.1_InvestigateEquality\", \"learnToolsVersion\": \"0.3.4\", \"failureMessage\": \"\", \"exceptionClass\": \"\", \"trace\": \"\"}}, \"*\")"
      ],
      "text/plain": [
       "<IPython.core.display.Javascript object>"
      ]
     },
     "metadata": {},
     "output_type": "display_data"
    },
    {
     "data": {
      "text/markdown": [
       "<span style=\"color:#33cc33\">Correct</span>"
      ],
      "text/plain": [
       "Correct"
      ]
     },
     "metadata": {},
     "output_type": "display_data"
    }
   ],
   "source": [
    "# Fill in the line below: How many rows are in the training data?\n",
    "num_rows = 1168\n",
    "\n",
    "# Fill in the line below: How many columns in the training data\n",
    "# have missing values?\n",
    "num_cols_with_missing = 3\n",
    "\n",
    "# Fill in the line below: How many missing entries are contained in \n",
    "# all of the training data?\n",
    "tot_missing = 212 + 6 + 58\n",
    "\n",
    "# Check your answers\n",
    "step_1.a.check()"
   ]
  },
  {
   "cell_type": "code",
   "execution_count": 6,
   "id": "63d79320",
   "metadata": {
    "execution": {
     "iopub.execute_input": "2024-06-02T05:36:04.310979Z",
     "iopub.status.busy": "2024-06-02T05:36:04.310051Z",
     "iopub.status.idle": "2024-06-02T05:36:04.315148Z",
     "shell.execute_reply": "2024-06-02T05:36:04.314027Z"
    },
    "papermill": {
     "duration": 0.021147,
     "end_time": "2024-06-02T05:36:04.317481",
     "exception": false,
     "start_time": "2024-06-02T05:36:04.296334",
     "status": "completed"
    },
    "tags": []
   },
   "outputs": [],
   "source": [
    "# Lines below will give you a hint or solution code\n",
    "#step_1.a.hint()\n",
    "#step_1.a.solution()"
   ]
  },
  {
   "cell_type": "markdown",
   "id": "43070295",
   "metadata": {
    "papermill": {
     "duration": 0.012165,
     "end_time": "2024-06-02T05:36:04.342216",
     "exception": false,
     "start_time": "2024-06-02T05:36:04.330051",
     "status": "completed"
    },
    "tags": []
   },
   "source": [
    "### Part B\n",
    "Considering your answers above, what do you think is likely the best approach to dealing with the missing values?"
   ]
  },
  {
   "cell_type": "code",
   "execution_count": 7,
   "id": "8ad804db",
   "metadata": {
    "execution": {
     "iopub.execute_input": "2024-06-02T05:36:04.369304Z",
     "iopub.status.busy": "2024-06-02T05:36:04.368882Z",
     "iopub.status.idle": "2024-06-02T05:36:04.378330Z",
     "shell.execute_reply": "2024-06-02T05:36:04.377186Z"
    },
    "papermill": {
     "duration": 0.026059,
     "end_time": "2024-06-02T05:36:04.380971",
     "exception": false,
     "start_time": "2024-06-02T05:36:04.354912",
     "status": "completed"
    },
    "tags": []
   },
   "outputs": [
    {
     "data": {
      "application/javascript": [
       "parent.postMessage({\"jupyterEvent\": \"custom.exercise_interaction\", \"data\": {\"outcomeType\": 1, \"valueTowardsCompletion\": 1.0, \"interactionType\": 1, \"questionType\": 4, \"questionId\": \"1.2_InvestigateThought\", \"learnToolsVersion\": \"0.3.4\", \"failureMessage\": \"\", \"exceptionClass\": \"\", \"trace\": \"\"}}, \"*\")"
      ],
      "text/plain": [
       "<IPython.core.display.Javascript object>"
      ]
     },
     "metadata": {},
     "output_type": "display_data"
    },
    {
     "data": {
      "text/markdown": [
       "<span style=\"color:#33cc33\">Correct:</span> \n",
       "\n",
       "Since there are relatively few missing entries in the data (the column with the greatest percentage of missing values is missing less than 20% of its entries), we can expect that dropping columns is unlikely to yield good results.  This is because we'd be throwing away a lot of valuable data, and so imputation will likely perform better."
      ],
      "text/plain": [
       "Correct: \n",
       "\n",
       "Since there are relatively few missing entries in the data (the column with the greatest percentage of missing values is missing less than 20% of its entries), we can expect that dropping columns is unlikely to yield good results.  This is because we'd be throwing away a lot of valuable data, and so imputation will likely perform better."
      ]
     },
     "metadata": {},
     "output_type": "display_data"
    }
   ],
   "source": [
    "# Check your answer (Run this code cell to receive credit!)\n",
    "step_1.b.check()"
   ]
  },
  {
   "cell_type": "code",
   "execution_count": 8,
   "id": "ca245381",
   "metadata": {
    "execution": {
     "iopub.execute_input": "2024-06-02T05:36:04.408271Z",
     "iopub.status.busy": "2024-06-02T05:36:04.407861Z",
     "iopub.status.idle": "2024-06-02T05:36:04.412601Z",
     "shell.execute_reply": "2024-06-02T05:36:04.411612Z"
    },
    "papermill": {
     "duration": 0.021343,
     "end_time": "2024-06-02T05:36:04.415237",
     "exception": false,
     "start_time": "2024-06-02T05:36:04.393894",
     "status": "completed"
    },
    "tags": []
   },
   "outputs": [],
   "source": [
    "#step_1.b.hint()"
   ]
  },
  {
   "cell_type": "markdown",
   "id": "1293875f",
   "metadata": {
    "papermill": {
     "duration": 0.012578,
     "end_time": "2024-06-02T05:36:04.441498",
     "exception": false,
     "start_time": "2024-06-02T05:36:04.428920",
     "status": "completed"
    },
    "tags": []
   },
   "source": [
    "To compare different approaches to dealing with missing values, you'll use the same `score_dataset()` function from the tutorial.  This function reports the [mean absolute error](https://en.wikipedia.org/wiki/Mean_absolute_error) (MAE) from a random forest model."
   ]
  },
  {
   "cell_type": "code",
   "execution_count": 9,
   "id": "76d01138",
   "metadata": {
    "execution": {
     "iopub.execute_input": "2024-06-02T05:36:04.469769Z",
     "iopub.status.busy": "2024-06-02T05:36:04.468802Z",
     "iopub.status.idle": "2024-06-02T05:36:04.813527Z",
     "shell.execute_reply": "2024-06-02T05:36:04.812504Z"
    },
    "papermill": {
     "duration": 0.361653,
     "end_time": "2024-06-02T05:36:04.816325",
     "exception": false,
     "start_time": "2024-06-02T05:36:04.454672",
     "status": "completed"
    },
    "tags": []
   },
   "outputs": [],
   "source": [
    "from sklearn.ensemble import RandomForestRegressor\n",
    "from sklearn.metrics import mean_absolute_error\n",
    "\n",
    "# Function for comparing different approaches\n",
    "def score_dataset(X_train, X_valid, y_train, y_valid):\n",
    "    model = RandomForestRegressor(n_estimators=100, random_state=0)\n",
    "    model.fit(X_train, y_train)\n",
    "    preds = model.predict(X_valid)\n",
    "    return mean_absolute_error(y_valid, preds)"
   ]
  },
  {
   "cell_type": "markdown",
   "id": "5ff58e17",
   "metadata": {
    "papermill": {
     "duration": 0.012505,
     "end_time": "2024-06-02T05:36:04.841827",
     "exception": false,
     "start_time": "2024-06-02T05:36:04.829322",
     "status": "completed"
    },
    "tags": []
   },
   "source": [
    "# Step 2: Drop columns with missing values\n",
    "\n",
    "In this step, you'll preprocess the data in `X_train` and `X_valid` to remove columns with missing values.  Set the preprocessed DataFrames to `reduced_X_train` and `reduced_X_valid`, respectively.  "
   ]
  },
  {
   "cell_type": "code",
   "execution_count": 10,
   "id": "67592713",
   "metadata": {
    "execution": {
     "iopub.execute_input": "2024-06-02T05:36:04.869299Z",
     "iopub.status.busy": "2024-06-02T05:36:04.868906Z",
     "iopub.status.idle": "2024-06-02T05:36:04.897259Z",
     "shell.execute_reply": "2024-06-02T05:36:04.896110Z"
    },
    "papermill": {
     "duration": 0.044858,
     "end_time": "2024-06-02T05:36:04.899684",
     "exception": false,
     "start_time": "2024-06-02T05:36:04.854826",
     "status": "completed"
    },
    "tags": []
   },
   "outputs": [
    {
     "data": {
      "application/javascript": [
       "parent.postMessage({\"jupyterEvent\": \"custom.exercise_interaction\", \"data\": {\"outcomeType\": 1, \"valueTowardsCompletion\": 1.0, \"interactionType\": 1, \"questionType\": 2, \"questionId\": \"2_DropMissing\", \"learnToolsVersion\": \"0.3.4\", \"failureMessage\": \"\", \"exceptionClass\": \"\", \"trace\": \"\"}}, \"*\")"
      ],
      "text/plain": [
       "<IPython.core.display.Javascript object>"
      ]
     },
     "metadata": {},
     "output_type": "display_data"
    },
    {
     "data": {
      "text/markdown": [
       "<span style=\"color:#33cc33\">Correct</span>"
      ],
      "text/plain": [
       "Correct"
      ]
     },
     "metadata": {},
     "output_type": "display_data"
    }
   ],
   "source": [
    "# Fill in the line below: get names of columns with missing values\n",
    "cols_with_missing = [col for col in X_train.columns\n",
    "                     if X_train[col].isnull().any()] # Your code here\n",
    "\n",
    "# Fill in the lines below: drop columns in training and validation data\n",
    "reduced_X_train = X_train.drop(cols_with_missing, axis=1)\n",
    "reduced_X_valid = X_valid.drop(cols_with_missing, axis=1)\n",
    "\n",
    "# Check your answers\n",
    "step_2.check()"
   ]
  },
  {
   "cell_type": "code",
   "execution_count": 11,
   "id": "fa6eb73c",
   "metadata": {
    "execution": {
     "iopub.execute_input": "2024-06-02T05:36:04.928753Z",
     "iopub.status.busy": "2024-06-02T05:36:04.927823Z",
     "iopub.status.idle": "2024-06-02T05:36:04.932719Z",
     "shell.execute_reply": "2024-06-02T05:36:04.931586Z"
    },
    "papermill": {
     "duration": 0.022238,
     "end_time": "2024-06-02T05:36:04.935186",
     "exception": false,
     "start_time": "2024-06-02T05:36:04.912948",
     "status": "completed"
    },
    "tags": []
   },
   "outputs": [],
   "source": [
    "# Lines below will give you a hint or solution code\n",
    "#step_2.hint()\n",
    "#step_2.solution()"
   ]
  },
  {
   "cell_type": "markdown",
   "id": "3f6cedb0",
   "metadata": {
    "papermill": {
     "duration": 0.012978,
     "end_time": "2024-06-02T05:36:04.962896",
     "exception": false,
     "start_time": "2024-06-02T05:36:04.949918",
     "status": "completed"
    },
    "tags": []
   },
   "source": [
    "Run the next code cell without changes to obtain the MAE for this approach."
   ]
  },
  {
   "cell_type": "code",
   "execution_count": 12,
   "id": "29161e83",
   "metadata": {
    "execution": {
     "iopub.execute_input": "2024-06-02T05:36:04.991102Z",
     "iopub.status.busy": "2024-06-02T05:36:04.990701Z",
     "iopub.status.idle": "2024-06-02T05:36:06.313447Z",
     "shell.execute_reply": "2024-06-02T05:36:06.312172Z"
    },
    "papermill": {
     "duration": 1.339866,
     "end_time": "2024-06-02T05:36:06.316124",
     "exception": false,
     "start_time": "2024-06-02T05:36:04.976258",
     "status": "completed"
    },
    "tags": []
   },
   "outputs": [
    {
     "name": "stdout",
     "output_type": "stream",
     "text": [
      "MAE (Drop columns with missing values):\n",
      "17837.82570776256\n"
     ]
    }
   ],
   "source": [
    "print(\"MAE (Drop columns with missing values):\")\n",
    "print(score_dataset(reduced_X_train, reduced_X_valid, y_train, y_valid))"
   ]
  },
  {
   "cell_type": "markdown",
   "id": "8a8f002d",
   "metadata": {
    "papermill": {
     "duration": 0.013558,
     "end_time": "2024-06-02T05:36:06.343721",
     "exception": false,
     "start_time": "2024-06-02T05:36:06.330163",
     "status": "completed"
    },
    "tags": []
   },
   "source": [
    "# Step 3: Imputation\n",
    "\n",
    "### Part A\n",
    "\n",
    "Use the next code cell to impute missing values with the mean value along each column.  Set the preprocessed DataFrames to `imputed_X_train` and `imputed_X_valid`.  Make sure that the column names match those in `X_train` and `X_valid`."
   ]
  },
  {
   "cell_type": "code",
   "execution_count": 13,
   "id": "470eed40",
   "metadata": {
    "execution": {
     "iopub.execute_input": "2024-06-02T05:36:06.372667Z",
     "iopub.status.busy": "2024-06-02T05:36:06.372266Z",
     "iopub.status.idle": "2024-06-02T05:36:06.406954Z",
     "shell.execute_reply": "2024-06-02T05:36:06.405801Z"
    },
    "papermill": {
     "duration": 0.051967,
     "end_time": "2024-06-02T05:36:06.409396",
     "exception": false,
     "start_time": "2024-06-02T05:36:06.357429",
     "status": "completed"
    },
    "tags": []
   },
   "outputs": [
    {
     "data": {
      "application/javascript": [
       "parent.postMessage({\"jupyterEvent\": \"custom.exercise_interaction\", \"data\": {\"outcomeType\": 1, \"valueTowardsCompletion\": 1.0, \"interactionType\": 1, \"questionType\": 2, \"questionId\": \"3.1_ImputeCode\", \"learnToolsVersion\": \"0.3.4\", \"failureMessage\": \"\", \"exceptionClass\": \"\", \"trace\": \"\"}}, \"*\")"
      ],
      "text/plain": [
       "<IPython.core.display.Javascript object>"
      ]
     },
     "metadata": {},
     "output_type": "display_data"
    },
    {
     "data": {
      "text/markdown": [
       "<span style=\"color:#33cc33\">Correct</span>"
      ],
      "text/plain": [
       "Correct"
      ]
     },
     "metadata": {},
     "output_type": "display_data"
    }
   ],
   "source": [
    "from sklearn.impute import SimpleImputer\n",
    "\n",
    "# Fill in the lines below: imputation\n",
    "my_imputer = SimpleImputer()\n",
    "imputed_X_train = pd.DataFrame(my_imputer.fit_transform(X_train))\n",
    "imputed_X_valid = pd.DataFrame(my_imputer.transform(X_valid))\n",
    "\n",
    "# Fill in the lines below: imputation removed column names; put them back\n",
    "imputed_X_train.columns = X_train.columns\n",
    "imputed_X_valid.columns = X_valid.columns\n",
    "\n",
    "# Check your answers\n",
    "step_3.a.check()"
   ]
  },
  {
   "cell_type": "code",
   "execution_count": 14,
   "id": "0c9030bf",
   "metadata": {
    "execution": {
     "iopub.execute_input": "2024-06-02T05:36:06.439190Z",
     "iopub.status.busy": "2024-06-02T05:36:06.438302Z",
     "iopub.status.idle": "2024-06-02T05:36:06.443121Z",
     "shell.execute_reply": "2024-06-02T05:36:06.441945Z"
    },
    "papermill": {
     "duration": 0.022374,
     "end_time": "2024-06-02T05:36:06.445545",
     "exception": false,
     "start_time": "2024-06-02T05:36:06.423171",
     "status": "completed"
    },
    "tags": []
   },
   "outputs": [],
   "source": [
    "# Lines below will give you a hint or solution code\n",
    "#step_3.a.hint()\n",
    "#step_3.a.solution()"
   ]
  },
  {
   "cell_type": "markdown",
   "id": "b3202b1c",
   "metadata": {
    "papermill": {
     "duration": 0.013858,
     "end_time": "2024-06-02T05:36:06.473674",
     "exception": false,
     "start_time": "2024-06-02T05:36:06.459816",
     "status": "completed"
    },
    "tags": []
   },
   "source": [
    "Run the next code cell without changes to obtain the MAE for this approach."
   ]
  },
  {
   "cell_type": "code",
   "execution_count": 15,
   "id": "eed3ecbc",
   "metadata": {
    "execution": {
     "iopub.execute_input": "2024-06-02T05:36:06.503637Z",
     "iopub.status.busy": "2024-06-02T05:36:06.503209Z",
     "iopub.status.idle": "2024-06-02T05:36:07.968423Z",
     "shell.execute_reply": "2024-06-02T05:36:07.967079Z"
    },
    "papermill": {
     "duration": 1.483209,
     "end_time": "2024-06-02T05:36:07.971016",
     "exception": false,
     "start_time": "2024-06-02T05:36:06.487807",
     "status": "completed"
    },
    "tags": []
   },
   "outputs": [
    {
     "name": "stdout",
     "output_type": "stream",
     "text": [
      "MAE (Imputation):\n",
      "18062.894611872147\n"
     ]
    }
   ],
   "source": [
    "print(\"MAE (Imputation):\")\n",
    "print(score_dataset(imputed_X_train, imputed_X_valid, y_train, y_valid))"
   ]
  },
  {
   "cell_type": "markdown",
   "id": "90c1b67f",
   "metadata": {
    "papermill": {
     "duration": 0.013913,
     "end_time": "2024-06-02T05:36:07.999179",
     "exception": false,
     "start_time": "2024-06-02T05:36:07.985266",
     "status": "completed"
    },
    "tags": []
   },
   "source": [
    "### Part B\n",
    "\n",
    "Compare the MAE from each approach.  Does anything surprise you about the results?  Why do you think one approach performed better than the other?"
   ]
  },
  {
   "cell_type": "code",
   "execution_count": 16,
   "id": "66532cbb",
   "metadata": {
    "execution": {
     "iopub.execute_input": "2024-06-02T05:36:08.029894Z",
     "iopub.status.busy": "2024-06-02T05:36:08.028926Z",
     "iopub.status.idle": "2024-06-02T05:36:08.038035Z",
     "shell.execute_reply": "2024-06-02T05:36:08.036951Z"
    },
    "papermill": {
     "duration": 0.027116,
     "end_time": "2024-06-02T05:36:08.040715",
     "exception": false,
     "start_time": "2024-06-02T05:36:08.013599",
     "status": "completed"
    },
    "tags": []
   },
   "outputs": [
    {
     "data": {
      "application/javascript": [
       "parent.postMessage({\"jupyterEvent\": \"custom.exercise_interaction\", \"data\": {\"outcomeType\": 1, \"valueTowardsCompletion\": 1.0, \"interactionType\": 1, \"questionType\": 4, \"questionId\": \"3.2_ImputeThought\", \"learnToolsVersion\": \"0.3.4\", \"failureMessage\": \"\", \"exceptionClass\": \"\", \"trace\": \"\"}}, \"*\")"
      ],
      "text/plain": [
       "<IPython.core.display.Javascript object>"
      ]
     },
     "metadata": {},
     "output_type": "display_data"
    },
    {
     "data": {
      "text/markdown": [
       "<span style=\"color:#33cc33\">Correct:</span> \n",
       "\n",
       "Given that thre are so few missing values in the dataset, we'd expect imputation to perform better than dropping columns entirely.  However, we see that dropping columns performs slightly better!  While this can probably partially be attributed to noise in the dataset, another potential explanation is that the imputation method is not a great match to this dataset.  That is, maybe instead of filling in the mean value, it makes more sense to set every missing value to a value of 0, to fill in the most frequently encountered value, or to use some other method.  For instance, consider the `GarageYrBlt` column (which indicates the year that the garage was built).  It's likely that in some cases, a missing value could indicate a house that does not have a garage.  Does it make more sense to fill in the median value along each column in this case?  Or could we get better results by filling in the minimum value along each column?  It's not quite clear what's best in this case, but perhaps we can rule out some options immediately - for instance, setting missing values in this column to 0 is likely to yield horrible results!"
      ],
      "text/plain": [
       "Correct: \n",
       "\n",
       "Given that thre are so few missing values in the dataset, we'd expect imputation to perform better than dropping columns entirely.  However, we see that dropping columns performs slightly better!  While this can probably partially be attributed to noise in the dataset, another potential explanation is that the imputation method is not a great match to this dataset.  That is, maybe instead of filling in the mean value, it makes more sense to set every missing value to a value of 0, to fill in the most frequently encountered value, or to use some other method.  For instance, consider the `GarageYrBlt` column (which indicates the year that the garage was built).  It's likely that in some cases, a missing value could indicate a house that does not have a garage.  Does it make more sense to fill in the median value along each column in this case?  Or could we get better results by filling in the minimum value along each column?  It's not quite clear what's best in this case, but perhaps we can rule out some options immediately - for instance, setting missing values in this column to 0 is likely to yield horrible results!"
      ]
     },
     "metadata": {},
     "output_type": "display_data"
    }
   ],
   "source": [
    "# Check your answer (Run this code cell to receive credit!)\n",
    "step_3.b.check()"
   ]
  },
  {
   "cell_type": "code",
   "execution_count": 17,
   "id": "ecbee4de",
   "metadata": {
    "execution": {
     "iopub.execute_input": "2024-06-02T05:36:08.072200Z",
     "iopub.status.busy": "2024-06-02T05:36:08.071759Z",
     "iopub.status.idle": "2024-06-02T05:36:08.077800Z",
     "shell.execute_reply": "2024-06-02T05:36:08.076264Z"
    },
    "papermill": {
     "duration": 0.025683,
     "end_time": "2024-06-02T05:36:08.081125",
     "exception": false,
     "start_time": "2024-06-02T05:36:08.055442",
     "status": "completed"
    },
    "tags": []
   },
   "outputs": [],
   "source": [
    "#step_3.b.hint()"
   ]
  },
  {
   "cell_type": "markdown",
   "id": "4de97c9a",
   "metadata": {
    "papermill": {
     "duration": 0.020562,
     "end_time": "2024-06-02T05:36:08.121005",
     "exception": false,
     "start_time": "2024-06-02T05:36:08.100443",
     "status": "completed"
    },
    "tags": []
   },
   "source": [
    "# Step 4: Generate test predictions\n",
    "\n",
    "In this final step, you'll use any approach of your choosing to deal with missing values.  Once you've preprocessed the training and validation features, you'll train and evaluate a random forest model.  Then, you'll preprocess the test data before generating predictions that can be submitted to the competition!\n",
    "\n",
    "### Part A\n",
    "\n",
    "Use the next code cell to preprocess the training and validation data.  Set the preprocessed DataFrames to `final_X_train` and `final_X_valid`.  **You can use any approach of your choosing here!**  in order for this step to be marked as correct, you need only ensure:\n",
    "- the preprocessed DataFrames have the same number of columns,\n",
    "- the preprocessed DataFrames have no missing values, \n",
    "- `final_X_train` and `y_train` have the same number of rows, and\n",
    "- `final_X_valid` and `y_valid` have the same number of rows."
   ]
  },
  {
   "cell_type": "code",
   "execution_count": 18,
   "id": "414928a4",
   "metadata": {
    "execution": {
     "iopub.execute_input": "2024-06-02T05:36:08.165139Z",
     "iopub.status.busy": "2024-06-02T05:36:08.164701Z",
     "iopub.status.idle": "2024-06-02T05:36:08.206545Z",
     "shell.execute_reply": "2024-06-02T05:36:08.205453Z"
    },
    "papermill": {
     "duration": 0.06664,
     "end_time": "2024-06-02T05:36:08.209156",
     "exception": false,
     "start_time": "2024-06-02T05:36:08.142516",
     "status": "completed"
    },
    "tags": []
   },
   "outputs": [
    {
     "data": {
      "application/javascript": [
       "parent.postMessage({\"jupyterEvent\": \"custom.exercise_interaction\", \"data\": {\"outcomeType\": 1, \"valueTowardsCompletion\": 1.0, \"interactionType\": 1, \"questionType\": 2, \"questionId\": \"4.1_PredsCodeA\", \"learnToolsVersion\": \"0.3.4\", \"failureMessage\": \"\", \"exceptionClass\": \"\", \"trace\": \"\"}}, \"*\")"
      ],
      "text/plain": [
       "<IPython.core.display.Javascript object>"
      ]
     },
     "metadata": {},
     "output_type": "display_data"
    },
    {
     "data": {
      "text/markdown": [
       "<span style=\"color:#33cc33\">Correct</span>"
      ],
      "text/plain": [
       "Correct"
      ]
     },
     "metadata": {},
     "output_type": "display_data"
    }
   ],
   "source": [
    "X_train_plus = X_train.copy()\n",
    "X_valid_plus = X_valid.copy()\n",
    "\n",
    "for col in cols_with_missing:\n",
    "    X_train_plus[col + '_was_missing'] = X_train_plus[col].isnull()\n",
    "    X_valid_plus[col + '_was_missing'] = X_valid_plus[col].isnull()\n",
    "\n",
    "my_imputer = SimpleImputer()\n",
    "\n",
    "\n",
    "# Preprocessed training and validation features\n",
    "final_X_train = pd.DataFrame(my_imputer.fit_transform(X_train_plus))\n",
    "final_X_valid = pd.DataFrame(my_imputer.transform(X_valid_plus))\n",
    "\n",
    "# Check your answers\n",
    "step_4.a.check()"
   ]
  },
  {
   "cell_type": "code",
   "execution_count": 19,
   "id": "fc1b9922",
   "metadata": {
    "execution": {
     "iopub.execute_input": "2024-06-02T05:36:08.240946Z",
     "iopub.status.busy": "2024-06-02T05:36:08.240538Z",
     "iopub.status.idle": "2024-06-02T05:36:08.245061Z",
     "shell.execute_reply": "2024-06-02T05:36:08.244032Z"
    },
    "papermill": {
     "duration": 0.023202,
     "end_time": "2024-06-02T05:36:08.247427",
     "exception": false,
     "start_time": "2024-06-02T05:36:08.224225",
     "status": "completed"
    },
    "tags": []
   },
   "outputs": [],
   "source": [
    "# Lines below will give you a hint or solution code\n",
    "#step_4.a.hint()\n",
    "#step_4.a.solution()"
   ]
  },
  {
   "cell_type": "markdown",
   "id": "f28b816e",
   "metadata": {
    "papermill": {
     "duration": 0.014943,
     "end_time": "2024-06-02T05:36:08.277399",
     "exception": false,
     "start_time": "2024-06-02T05:36:08.262456",
     "status": "completed"
    },
    "tags": []
   },
   "source": [
    "Run the next code cell to train and evaluate a random forest model.  (*Note that we don't use the `score_dataset()` function above, because we will soon use the trained model to generate test predictions!*)"
   ]
  },
  {
   "cell_type": "code",
   "execution_count": 20,
   "id": "e585a625",
   "metadata": {
    "execution": {
     "iopub.execute_input": "2024-06-02T05:36:08.309764Z",
     "iopub.status.busy": "2024-06-02T05:36:08.308832Z",
     "iopub.status.idle": "2024-06-02T05:36:09.810559Z",
     "shell.execute_reply": "2024-06-02T05:36:09.808777Z"
    },
    "papermill": {
     "duration": 1.521047,
     "end_time": "2024-06-02T05:36:09.813596",
     "exception": false,
     "start_time": "2024-06-02T05:36:08.292549",
     "status": "completed"
    },
    "tags": []
   },
   "outputs": [
    {
     "name": "stdout",
     "output_type": "stream",
     "text": [
      "MAE (Your approach):\n",
      "18148.417180365297\n"
     ]
    }
   ],
   "source": [
    "# Define and fit model\n",
    "model = RandomForestRegressor(n_estimators=100, random_state=0)\n",
    "model.fit(final_X_train, y_train)\n",
    "\n",
    "# Get validation predictions and MAE\n",
    "preds_valid = model.predict(final_X_valid)\n",
    "print(\"MAE (Your approach):\")\n",
    "print(mean_absolute_error(y_valid, preds_valid))"
   ]
  },
  {
   "cell_type": "markdown",
   "id": "0776595e",
   "metadata": {
    "papermill": {
     "duration": 0.015053,
     "end_time": "2024-06-02T05:36:09.843772",
     "exception": false,
     "start_time": "2024-06-02T05:36:09.828719",
     "status": "completed"
    },
    "tags": []
   },
   "source": [
    "### Part B\n",
    "\n",
    "Use the next code cell to preprocess your test data.  Make sure that you use a method that agrees with how you preprocessed the training and validation data, and set the preprocessed test features to `final_X_test`.\n",
    "\n",
    "Then, use the preprocessed test features and the trained model to generate test predictions in `preds_test`.\n",
    "\n",
    "In order for this step to be marked correct, you need only ensure:\n",
    "- the preprocessed test DataFrame has no missing values, and\n",
    "- `final_X_test` has the same number of rows as `X_test`."
   ]
  },
  {
   "cell_type": "code",
   "execution_count": 21,
   "id": "6a225814",
   "metadata": {
    "execution": {
     "iopub.execute_input": "2024-06-02T05:36:09.875902Z",
     "iopub.status.busy": "2024-06-02T05:36:09.875474Z",
     "iopub.status.idle": "2024-06-02T05:36:09.938382Z",
     "shell.execute_reply": "2024-06-02T05:36:09.936993Z"
    },
    "papermill": {
     "duration": 0.082214,
     "end_time": "2024-06-02T05:36:09.941182",
     "exception": false,
     "start_time": "2024-06-02T05:36:09.858968",
     "status": "completed"
    },
    "tags": []
   },
   "outputs": [
    {
     "data": {
      "application/javascript": [
       "parent.postMessage({\"jupyterEvent\": \"custom.exercise_interaction\", \"data\": {\"outcomeType\": 1, \"valueTowardsCompletion\": 1.0, \"interactionType\": 1, \"questionType\": 2, \"questionId\": \"4.2_PredsCodeB\", \"learnToolsVersion\": \"0.3.4\", \"failureMessage\": \"\", \"exceptionClass\": \"\", \"trace\": \"\"}}, \"*\")"
      ],
      "text/plain": [
       "<IPython.core.display.Javascript object>"
      ]
     },
     "metadata": {},
     "output_type": "display_data"
    },
    {
     "data": {
      "text/markdown": [
       "<span style=\"color:#33cc33\">Correct</span>"
      ],
      "text/plain": [
       "Correct"
      ]
     },
     "metadata": {},
     "output_type": "display_data"
    }
   ],
   "source": [
    "X_test_plus = X_test.copy()\n",
    "\n",
    "for col in cols_with_missing:\n",
    "    X_test_plus[col + '_was_missing'] = X_test_plus[col].isnull()\n",
    "    \n",
    "my_imputer = SimpleImputer()\n",
    "\n",
    "# Fill in the line below: preprocess test data\n",
    "final_X_test = pd.DataFrame(my_imputer.fit_transform(X_test_plus))\n",
    "\n",
    "# Fill in the line below: get test predictions\n",
    "preds_test = model.predict(final_X_test)\n",
    "\n",
    "# Check your answers\n",
    "step_4.b.check()"
   ]
  },
  {
   "cell_type": "code",
   "execution_count": 22,
   "id": "d1c15dd9",
   "metadata": {
    "execution": {
     "iopub.execute_input": "2024-06-02T05:36:09.975860Z",
     "iopub.status.busy": "2024-06-02T05:36:09.975447Z",
     "iopub.status.idle": "2024-06-02T05:36:09.980435Z",
     "shell.execute_reply": "2024-06-02T05:36:09.979255Z"
    },
    "papermill": {
     "duration": 0.026128,
     "end_time": "2024-06-02T05:36:09.982892",
     "exception": false,
     "start_time": "2024-06-02T05:36:09.956764",
     "status": "completed"
    },
    "tags": []
   },
   "outputs": [],
   "source": [
    "# Lines below will give you a hint or solution code\n",
    "#step_4.b.hint()\n",
    "#step_4.b.solution()"
   ]
  },
  {
   "cell_type": "markdown",
   "id": "9667eebe",
   "metadata": {
    "papermill": {
     "duration": 0.015306,
     "end_time": "2024-06-02T05:36:10.013716",
     "exception": false,
     "start_time": "2024-06-02T05:36:09.998410",
     "status": "completed"
    },
    "tags": []
   },
   "source": [
    "Run the next code cell without changes to save your results to a CSV file that can be submitted directly to the competition."
   ]
  },
  {
   "cell_type": "code",
   "execution_count": 23,
   "id": "c03167c0",
   "metadata": {
    "execution": {
     "iopub.execute_input": "2024-06-02T05:36:10.108416Z",
     "iopub.status.busy": "2024-06-02T05:36:10.107233Z",
     "iopub.status.idle": "2024-06-02T05:36:10.120916Z",
     "shell.execute_reply": "2024-06-02T05:36:10.119806Z"
    },
    "papermill": {
     "duration": 0.094228,
     "end_time": "2024-06-02T05:36:10.123623",
     "exception": false,
     "start_time": "2024-06-02T05:36:10.029395",
     "status": "completed"
    },
    "tags": []
   },
   "outputs": [],
   "source": [
    "# Save test predictions to file\n",
    "output = pd.DataFrame({'Id': X_test.index,\n",
    "                       'SalePrice': preds_test})\n",
    "output.to_csv('submission.csv', index=False)"
   ]
  },
  {
   "cell_type": "markdown",
   "id": "75da219e",
   "metadata": {
    "papermill": {
     "duration": 0.015095,
     "end_time": "2024-06-02T05:36:10.154272",
     "exception": false,
     "start_time": "2024-06-02T05:36:10.139177",
     "status": "completed"
    },
    "tags": []
   },
   "source": [
    "# Submit your results\n",
    "\n",
    "Once you have successfully completed Step 4, you're ready to submit your results to the leaderboard!  (_You also learned how to do this in the previous exercise.  If you need a reminder of how to do this, please use the instructions below._)  \n",
    "\n",
    "First, you'll need to join the competition if you haven't already.  So open a new window by clicking on [this link](https://www.kaggle.com/c/home-data-for-ml-course).  Then click on the **Join Competition** button.\n",
    "\n",
    "![join competition image](https://storage.googleapis.com/kaggle-media/learn/images/wLmFtH3.png)\n",
    "\n",
    "Next, follow the instructions below:\n",
    "1. Begin by clicking on the **Save Version** button in the top right corner of the window.  This will generate a pop-up window.  \n",
    "2. Ensure that the **Save and Run All** option is selected, and then click on the **Save** button.\n",
    "3. This generates a window in the bottom left corner of the notebook.  After it has finished running, click on the number to the right of the **Save Version** button.  This pulls up a list of versions on the right of the screen.  Click on the ellipsis **(...)** to the right of the most recent version, and select **Open in Viewer**.  This brings you into view mode of the same page. You will need to scroll down to get back to these instructions.\n",
    "4. Click on the **Data** tab near the top of the screen.  Then, click on the file you would like to submit, and click on the **Submit** button to submit your results to the leaderboard.\n",
    "\n",
    "You have now successfully submitted to the competition!\n",
    "\n",
    "If you want to keep working to improve your performance, select the **Edit** button in the top right of the screen. Then you can change your code and repeat the process. There's a lot of room to improve, and you will climb up the leaderboard as you work.\n",
    "\n",
    "\n",
    "# Keep going\n",
    "\n",
    "Move on to learn what **[categorical variables](https://www.kaggle.com/alexisbcook/categorical-variables)** are, along with how to incorporate them into your machine learning models.  Categorical variables are very common in real-world data, but you'll get an error if you try to plug them into your models without processing them first!"
   ]
  },
  {
   "cell_type": "markdown",
   "id": "807e6802",
   "metadata": {
    "papermill": {
     "duration": 0.01514,
     "end_time": "2024-06-02T05:36:10.184785",
     "exception": false,
     "start_time": "2024-06-02T05:36:10.169645",
     "status": "completed"
    },
    "tags": []
   },
   "source": [
    "---\n",
    "\n",
    "\n",
    "\n",
    "\n",
    "*Have questions or comments? Visit the [course discussion forum](https://www.kaggle.com/learn/intermediate-machine-learning/discussion) to chat with other learners.*"
   ]
  }
 ],
 "metadata": {
  "kaggle": {
   "accelerator": "none",
   "dataSources": [
    {
     "databundleVersionId": 111096,
     "sourceId": 10211,
     "sourceType": "competition"
    }
   ],
   "isGpuEnabled": false,
   "isInternetEnabled": false,
   "language": "python",
   "sourceType": "notebook"
  },
  "kernelspec": {
   "display_name": "Python 3",
   "language": "python",
   "name": "python3"
  },
  "language_info": {
   "codemirror_mode": {
    "name": "ipython",
    "version": 3
   },
   "file_extension": ".py",
   "mimetype": "text/x-python",
   "name": "python",
   "nbconvert_exporter": "python",
   "pygments_lexer": "ipython3",
   "version": "3.10.13"
  },
  "papermill": {
   "default_parameters": {},
   "duration": 12.351503,
   "end_time": "2024-06-02T05:36:10.822475",
   "environment_variables": {},
   "exception": null,
   "input_path": "__notebook__.ipynb",
   "output_path": "__notebook__.ipynb",
   "parameters": {},
   "start_time": "2024-06-02T05:35:58.470972",
   "version": "2.5.0"
  }
 },
 "nbformat": 4,
 "nbformat_minor": 5
}
